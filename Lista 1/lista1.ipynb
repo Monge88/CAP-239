{
 "cells": [
  {
   "cell_type": "markdown",
   "metadata": {},
   "source": [
    "### Conversão de números entre bases diferentes \n",
    "\n",
    "Author: @Monge88\n",
    "\n",
    "Descrição: Este código transforma um número na base n para o número correspondente na base m. Números menores do que zero não são considerados e apenas as bases menores do que 10 "
   ]
  },
  {
   "cell_type": "code",
   "execution_count": 22,
   "metadata": {},
   "outputs": [
    {
     "name": "stdout",
     "output_type": "stream",
     "text": [
      "Número inicial: 23\n",
      "Base inicial: 7\n",
      "Base para conversão: 2\n",
      "Número na base final:  10001\n"
     ]
    }
   ],
   "source": [
    "def transforma_base(num_inicial, _base_final):\n",
    "    \"\"\"\n",
    "    Transforma um número fornecido pelo usuário em uma base n (abcde)_n para uma outra\n",
    "    base m qualquer (ABCDE)_m.\n",
    "    \n",
    "    Variáveis de entrada:\n",
    "    @num_inicial: Número fornecido pelo usuário para ser transformado para outra base\n",
    "    @_base_final: Base final na qual num_inicial será transformado\n",
    "    \"\"\"\n",
    "    \n",
    "    quociente = 1\n",
    "    num_nova_base = []\n",
    "    \n",
    "    while (quociente != 0): \n",
    "        quociente = num_inicial // _base_final\n",
    "        num_nova_base.append(str(num_inicial % _base_final)) # Armazena o resto da divisão\n",
    "        num_inicial = quociente # Atualiza o dividendo\n",
    "    \n",
    "    print(\"Número na base final:\", ''.join(num_nova_base[::-1]))\n",
    "        \n",
    "    \n",
    "\n",
    "def main():    \n",
    "    num_inicial = int(input('Número inicial: '))\n",
    "    num_inicial_str = str(num_inicial)\n",
    "    base_inicial = int(input('Base inicial: '))\n",
    "    _base_final = int(input('Base para conversão: '))\n",
    "\n",
    "    if (base_inicial == 10):\n",
    "        transforma_base(num_inicial, _base_final)\n",
    "    \n",
    "    else:\n",
    "        num_inicial_10 = 0\n",
    "        exp = len(num_inicial_str) - 1\n",
    "    \n",
    "        for digit in num_inicial_str:\n",
    "            # (abcde)_n = a*n^4 + b*n^3 + c*n^2 + d*n^1 + d*n^0 = (ABCDE)_10\n",
    "            num_inicial_10 += int(digit)*(base_inicial**exp)\n",
    "            exp -= 1\n",
    "    \n",
    "    transforma_base(num_inicial_10, _base_final)\n",
    "    \n",
    "\n",
    "main()   "
   ]
  },
  {
   "cell_type": "code",
   "execution_count": null,
   "metadata": {},
   "outputs": [],
   "source": []
  },
  {
   "cell_type": "code",
   "execution_count": null,
   "metadata": {},
   "outputs": [],
   "source": []
  }
 ],
 "metadata": {
  "kernelspec": {
   "display_name": "Python 3",
   "language": "python",
   "name": "python3"
  },
  "language_info": {
   "codemirror_mode": {
    "name": "ipython",
    "version": 3
   },
   "file_extension": ".py",
   "mimetype": "text/x-python",
   "name": "python",
   "nbconvert_exporter": "python",
   "pygments_lexer": "ipython3",
   "version": "3.6.9"
  }
 },
 "nbformat": 4,
 "nbformat_minor": 2
}
